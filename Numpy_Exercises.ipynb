{
  "cells": [
    {
      "cell_type": "markdown",
      "metadata": {
        "id": "hzt-DKIXQ7FL"
      },
      "source": [
        "# NumPy Exercises\n",
        "\n",
        "Now that we've learned about NumPy let's test your knowledge. We'll start off with a few simple tasks, and then you'll be asked some more complicated questions."
      ]
    },
    {
      "cell_type": "markdown",
      "metadata": {
        "id": "P2_BPd7RQ7FM"
      },
      "source": [
        "#### Import NumPy as np"
      ]
    },
    {
      "cell_type": "code",
      "execution_count": 57,
      "metadata": {
        "collapsed": true,
        "id": "KTaAEd4LQ7FN"
      },
      "outputs": [],
      "source": [
        "import numpy as np"
      ]
    },
    {
      "cell_type": "markdown",
      "metadata": {
        "id": "YochTK26Q7FN"
      },
      "source": [
        "#### Create an array of 10 zeros"
      ]
    },
    {
      "cell_type": "code",
      "execution_count": 58,
      "metadata": {
        "id": "uJ6_EequQ7FO",
        "outputId": "232f1037-6fca-41db-ab14-087333547665"
      },
      "outputs": [
        {
          "name": "stdout",
          "output_type": "stream",
          "text": [
            "[0. 0. 0. 0. 0. 0. 0. 0. 0. 0.]\n"
          ]
        }
      ],
      "source": [
        "array = np.zeros(10)\n",
        "print(array)"
      ]
    },
    {
      "cell_type": "markdown",
      "metadata": {
        "id": "pSEsTCv4Q7FP"
      },
      "source": [
        "#### Create an array of 10 ones"
      ]
    },
    {
      "cell_type": "code",
      "execution_count": 59,
      "metadata": {
        "id": "MghhDgurQ7FP",
        "outputId": "96be13f3-d860-40be-d771-8d8b0bc525ea"
      },
      "outputs": [
        {
          "name": "stdout",
          "output_type": "stream",
          "text": [
            "[1. 1. 1. 1. 1. 1. 1. 1. 1. 1.]\n"
          ]
        }
      ],
      "source": [
        "array = np.ones(10)\n",
        "print(array)"
      ]
    },
    {
      "cell_type": "markdown",
      "metadata": {
        "id": "PlL6dsGnQ7FP"
      },
      "source": [
        "#### Create an array of 10 fives"
      ]
    },
    {
      "cell_type": "code",
      "execution_count": 60,
      "metadata": {
        "id": "V5fLmR58Q7FP",
        "outputId": "0f1337aa-4a40-4392-9eca-415031cfe1ca"
      },
      "outputs": [
        {
          "name": "stdout",
          "output_type": "stream",
          "text": [
            "[5. 5. 5. 5. 5. 5. 5. 5. 5. 5.]\n"
          ]
        }
      ],
      "source": [
        "array = np.ones(10)*5\n",
        "print(array)"
      ]
    },
    {
      "cell_type": "markdown",
      "metadata": {
        "id": "ldwRFdlBQ7FQ"
      },
      "source": [
        "#### Create an array of the integers from 10 to 50"
      ]
    },
    {
      "cell_type": "code",
      "execution_count": 61,
      "metadata": {
        "id": "lsmnA_xbQ7FQ",
        "outputId": "7d7d4893-f922-4017-b26b-a79a9098064e"
      },
      "outputs": [
        {
          "name": "stdout",
          "output_type": "stream",
          "text": [
            "[10 11 12 13 14 15 16 17 18 19 20 21 22 23 24 25 26 27 28 29 30 31 32 33\n",
            " 34 35 36 37 38 39 40 41 42 43 44 45 46 47 48 49 50]\n"
          ]
        }
      ],
      "source": [
        "array = np.arange(10, 51)\n",
        "print(array)"
      ]
    },
    {
      "cell_type": "markdown",
      "metadata": {
        "id": "dWgSyDU0Q7FQ"
      },
      "source": [
        "#### Create an array of all the even integers from 10 to 50"
      ]
    },
    {
      "cell_type": "code",
      "execution_count": 62,
      "metadata": {
        "id": "3-NCzkerQ7FQ",
        "outputId": "0f81bfa9-f3f0-4007-f19d-84db54d644e1"
      },
      "outputs": [
        {
          "name": "stdout",
          "output_type": "stream",
          "text": [
            "[10 12 14 16 18 20 22 24 26 28 30 32 34 36 38 40 42 44 46 48 50]\n"
          ]
        }
      ],
      "source": [
        "array = np.arange(10, 51,2)\n",
        "print(array)"
      ]
    },
    {
      "cell_type": "markdown",
      "metadata": {
        "id": "NazM8p_ZQ7FQ"
      },
      "source": [
        "#### Create a 3x3 matrix with values ranging from 0 to 8"
      ]
    },
    {
      "cell_type": "code",
      "execution_count": 63,
      "metadata": {
        "id": "JKsRvq8XQ7FQ",
        "outputId": "8ee7e627-8f85-449d-e529-ee4fdf16f043"
      },
      "outputs": [
        {
          "name": "stdout",
          "output_type": "stream",
          "text": [
            "[[0 1 2]\n",
            " [3 4 5]\n",
            " [6 7 8]]\n"
          ]
        }
      ],
      "source": [
        "array = np.arange(0,9).reshape(3,3)\n",
        "print(array)"
      ]
    },
    {
      "cell_type": "markdown",
      "metadata": {
        "id": "1nRvX6lnQ7FQ"
      },
      "source": [
        "#### Create a 3x3 identity matrix"
      ]
    },
    {
      "cell_type": "code",
      "execution_count": 64,
      "metadata": {
        "id": "Apy0RViLQ7FQ",
        "outputId": "33a51523-2add-486c-acc7-fce40919c990"
      },
      "outputs": [
        {
          "name": "stdout",
          "output_type": "stream",
          "text": [
            "[[1. 0. 0.]\n",
            " [0. 1. 0.]\n",
            " [0. 0. 1.]]\n"
          ]
        }
      ],
      "source": [
        "array = np.identity(3)\n",
        "print(array)"
      ]
    },
    {
      "cell_type": "markdown",
      "metadata": {
        "id": "eITQhQ0zQ7FR"
      },
      "source": [
        "#### Use NumPy to generate a random number between 0 and 1"
      ]
    },
    {
      "cell_type": "code",
      "execution_count": 65,
      "metadata": {
        "id": "MGs5IrR8Q7FR",
        "outputId": "d1163d9e-948f-41c0-f08a-5d732be971b3"
      },
      "outputs": [
        {
          "name": "stdout",
          "output_type": "stream",
          "text": [
            "0.994860262477691\n"
          ]
        }
      ],
      "source": [
        "print(np.random.rand())"
      ]
    },
    {
      "cell_type": "markdown",
      "metadata": {
        "id": "zhV8saNWQ7FR"
      },
      "source": [
        "#### Use NumPy to generate an array of 25 random numbers sampled from a standard normal distribution"
      ]
    },
    {
      "cell_type": "code",
      "execution_count": 66,
      "metadata": {
        "id": "RArpTZljQ7FR",
        "outputId": "2ce8fa53-d1c6-477d-bb7b-6e32063bbd5f"
      },
      "outputs": [
        {
          "name": "stdout",
          "output_type": "stream",
          "text": [
            "[ 1.48106161  0.81247121 -0.1360048  -0.29128561  0.37847822  0.4784276\n",
            " -0.75739365 -0.57172332  0.60554172 -1.84012937]\n"
          ]
        }
      ],
      "source": [
        "aray= np.random.randn(10)\n",
        "print(aray)"
      ]
    },
    {
      "cell_type": "markdown",
      "metadata": {
        "id": "13NPAQT1Q7FR"
      },
      "source": [
        "#### Create the following matrix:"
      ]
    },
    {
      "cell_type": "code",
      "execution_count": 67,
      "metadata": {
        "id": "Valdi387Q7FR",
        "outputId": "896ad1a5-fe09-4af8-d7b6-6d66f3e79b4b"
      },
      "outputs": [
        {
          "name": "stdout",
          "output_type": "stream",
          "text": [
            "[0.01 0.02 0.03 0.04 0.05 0.06 0.07 0.08 0.09 0.1  0.11 0.12 0.13 0.14\n",
            " 0.15 0.16 0.17 0.18 0.19 0.2  0.21 0.22 0.23 0.24 0.25 0.26 0.27 0.28\n",
            " 0.29 0.3  0.31 0.32 0.33 0.34 0.35 0.36 0.37 0.38 0.39 0.4  0.41 0.42\n",
            " 0.43 0.44 0.45 0.46 0.47 0.48 0.49 0.5  0.51 0.52 0.53 0.54 0.55 0.56\n",
            " 0.57 0.58 0.59 0.6  0.61 0.62 0.63 0.64 0.65 0.66 0.67 0.68 0.69 0.7\n",
            " 0.71 0.72 0.73 0.74 0.75 0.76 0.77 0.78 0.79 0.8  0.81 0.82 0.83 0.84\n",
            " 0.85 0.86 0.87 0.88 0.89 0.9  0.91 0.92 0.93 0.94 0.95 0.96 0.97 0.98\n",
            " 0.99 1.  ]\n"
          ]
        }
      ],
      "source": [
        "array = np.arange(0.01,1.01,0.01)\n",
        "print(array)"
      ]
    },
    {
      "cell_type": "markdown",
      "metadata": {
        "id": "QUFFyMRtQ7FR"
      },
      "source": [
        "#### Create an array of 20 linearly spaced points between 0 and 1:"
      ]
    },
    {
      "cell_type": "code",
      "execution_count": 68,
      "metadata": {
        "id": "XTdlfutyQ7FS",
        "outputId": "15f9ff7a-0e33-4522-eef4-7b71d7975d48"
      },
      "outputs": [
        {
          "name": "stdout",
          "output_type": "stream",
          "text": [
            "[0.         0.05263158 0.10526316 0.15789474 0.21052632 0.26315789\n",
            " 0.31578947 0.36842105 0.42105263 0.47368421 0.52631579 0.57894737\n",
            " 0.63157895 0.68421053 0.73684211 0.78947368 0.84210526 0.89473684\n",
            " 0.94736842 1.        ]\n"
          ]
        }
      ],
      "source": [
        "array = np.linspace(0,1,20)\n",
        "print(array)"
      ]
    },
    {
      "cell_type": "markdown",
      "metadata": {
        "id": "6UrI-g_lQ7FS"
      },
      "source": [
        "## Numpy Indexing and Selection\n",
        "\n",
        "Now you will be given a few matrices, and be asked to replicate the resulting matrix outputs:"
      ]
    },
    {
      "cell_type": "code",
      "execution_count": 69,
      "metadata": {
        "id": "7f8C0_94Q7FS",
        "outputId": "179061c5-2cec-45da-c54d-c903c1a6c120"
      },
      "outputs": [
        {
          "data": {
            "text/plain": [
              "array([[ 1,  2,  3,  4,  5],\n",
              "       [ 6,  7,  8,  9, 10],\n",
              "       [11, 12, 13, 14, 15],\n",
              "       [16, 17, 18, 19, 20],\n",
              "       [21, 22, 23, 24, 25]])"
            ]
          },
          "execution_count": 69,
          "metadata": {},
          "output_type": "execute_result"
        }
      ],
      "source": [
        "mat = np.arange(1,26).reshape(5,5)\n",
        "mat"
      ]
    },
    {
      "cell_type": "code",
      "execution_count": 70,
      "metadata": {
        "collapsed": true,
        "id": "9VPDeIGCQ7FT"
      },
      "outputs": [],
      "source": [
        "# WRITE CODE HERE THAT REPRODUCES THE OUTPUT OF THE CELL BELOW\n",
        "# BE CAREFUL NOT TO RUN THE CELL BELOW, OTHERWISE YOU WON'T\n",
        "# BE ABLE TO SEE THE OUTPUT ANY MORE"
      ]
    },
    {
      "cell_type": "code",
      "execution_count": 71,
      "metadata": {
        "id": "Lvh3FjKCQ7FT",
        "outputId": "b89b7da1-6ec4-45e4-c5eb-2c0b92d804fd"
      },
      "outputs": [
        {
          "name": "stdout",
          "output_type": "stream",
          "text": [
            "[[12 13 14 15]\n",
            " [17 18 19 20]\n",
            " [22 23 24 25]]\n"
          ]
        }
      ],
      "source": [
        "# Create the initial array\n",
        "array = np.arange(12, 27).reshape(3,5)\n",
        "array = np.delete(array, -1, axis=1)\n",
        "print(array)"
      ]
    },
    {
      "cell_type": "code",
      "execution_count": 72,
      "metadata": {
        "collapsed": true,
        "id": "f1ABMSmbQ7FU"
      },
      "outputs": [],
      "source": [
        "# WRITE CODE HERE THAT REPRODUCES THE OUTPUT OF THE CELL BELOW\n",
        "# BE CAREFUL NOT TO RUN THE CELL BELOW, OTHERWISE YOU WON'T\n",
        "# BE ABLE TO SEE THE OUTPUT ANY MORE"
      ]
    },
    {
      "cell_type": "code",
      "execution_count": 73,
      "metadata": {
        "id": "2oJPfqPQQ7FU",
        "outputId": "cd2d2b01-97cb-44c9-b216-17a3605ce231"
      },
      "outputs": [
        {
          "name": "stdout",
          "output_type": "stream",
          "text": [
            "[[ 2]\n",
            " [ 7]\n",
            " [12]]\n"
          ]
        }
      ],
      "source": [
        "aray= np.arange(2,13,5).reshape(3,1)\n",
        "print(aray)"
      ]
    },
    {
      "cell_type": "code",
      "execution_count": 74,
      "metadata": {
        "collapsed": true,
        "id": "XgyDM31EQ7FU"
      },
      "outputs": [],
      "source": [
        "# WRITE CODE HERE THAT REPRODUCES THE OUTPUT OF THE CELL BELOW\n",
        "# BE CAREFUL NOT TO RUN THE CELL BELOW, OTHERWISE YOU WON'T\n",
        "# BE ABLE TO SEE THE OUTPUT ANY MORE"
      ]
    },
    {
      "cell_type": "code",
      "execution_count": 75,
      "metadata": {
        "id": "VlfKJb88Q7FV",
        "outputId": "34b49900-1814-4c91-c41b-a152bec62e8c"
      },
      "outputs": [
        {
          "name": "stdout",
          "output_type": "stream",
          "text": [
            "[21 22 23 24 25]\n"
          ]
        }
      ],
      "source": [
        "array = np.arange(21, 26)\n",
        "print(array)"
      ]
    },
    {
      "cell_type": "code",
      "execution_count": 76,
      "metadata": {
        "collapsed": true,
        "id": "khMgBvn5Q7FV"
      },
      "outputs": [],
      "source": [
        "# WRITE CODE HERE THAT REPRODUCES THE OUTPUT OF THE CELL BELOW\n",
        "# BE CAREFUL NOT TO RUN THE CELL BELOW, OTHERWISE YOU WON'T\n",
        "# BE ABLE TO SEE THE OUTPUT ANY MORE"
      ]
    },
    {
      "cell_type": "code",
      "execution_count": 77,
      "metadata": {
        "id": "3tmgwxESQ7FV",
        "outputId": "b8aafca3-3eec-4b92-94a7-55326caa8977"
      },
      "outputs": [
        {
          "name": "stdout",
          "output_type": "stream",
          "text": [
            "[[16 17 18 19 20]\n",
            " [21 22 23 24 25]]\n"
          ]
        }
      ],
      "source": [
        "aray = np.arange(16, 26).reshape(2,5)\n",
        "print(aray)"
      ]
    },
    {
      "cell_type": "markdown",
      "metadata": {
        "id": "-iYzczhPQ7FV"
      },
      "source": [
        "### Now do the following"
      ]
    },
    {
      "cell_type": "markdown",
      "metadata": {
        "id": "ORnyn2uDQ7FV"
      },
      "source": [
        "#### Get the sum of all the values in mat"
      ]
    },
    {
      "cell_type": "code",
      "execution_count": 78,
      "metadata": {
        "id": "pVojykjXQ7FV",
        "outputId": "6adbc2f3-aa4c-45cd-8873-b7b17cfc2c7d"
      },
      "outputs": [
        {
          "name": "stdout",
          "output_type": "stream",
          "text": [
            "115\n"
          ]
        }
      ],
      "source": [
        "print(array.sum())"
      ]
    },
    {
      "cell_type": "markdown",
      "metadata": {
        "id": "koA5fRDAQ7FV"
      },
      "source": [
        "#### Get the standard deviation of the values in mat"
      ]
    },
    {
      "cell_type": "code",
      "execution_count": 79,
      "metadata": {
        "id": "88m3ZXqBQ7FW",
        "outputId": "ed5aef8c-c67c-46eb-accd-bd3a5c285bf2"
      },
      "outputs": [
        {
          "name": "stdout",
          "output_type": "stream",
          "text": [
            "1.4142135623730951\n"
          ]
        }
      ],
      "source": [
        "print(array.std())"
      ]
    },
    {
      "cell_type": "markdown",
      "metadata": {
        "id": "A1IbET9RQ7FW"
      },
      "source": [
        "#### Get the sum of all the columns in mat"
      ]
    },
    {
      "cell_type": "code",
      "execution_count": 80,
      "metadata": {
        "id": "4mGvQs74Q7FW",
        "outputId": "a8408cd7-2acb-4f06-aac2-9f0635fc9709"
      },
      "outputs": [
        {
          "name": "stdout",
          "output_type": "stream",
          "text": [
            "[ 9 12 15]\n"
          ]
        }
      ],
      "source": [
        "array =np.array([[0, 1, 2], [3, 4, 5], [6, 7, 8]])\n",
        "print(np.sum(array, axis=0))"
      ]
    },
    {
      "cell_type": "markdown",
      "metadata": {
        "collapsed": true,
        "id": "bSfv2RBVQ7FW"
      },
      "source": [
        "# Great Job!"
      ]
    }
  ],
  "metadata": {
    "colab": {
      "provenance": []
    },
    "kernelspec": {
      "display_name": "Python-from-scratch",
      "language": "python",
      "name": "python3"
    },
    "language_info": {
      "codemirror_mode": {
        "name": "ipython",
        "version": 3
      },
      "file_extension": ".py",
      "mimetype": "text/x-python",
      "name": "python",
      "nbconvert_exporter": "python",
      "pygments_lexer": "ipython3",
      "version": "3.12.9"
    }
  },
  "nbformat": 4,
  "nbformat_minor": 0
}
