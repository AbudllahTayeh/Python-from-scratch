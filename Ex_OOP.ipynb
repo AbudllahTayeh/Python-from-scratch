{
  "cells": [
    {
      "cell_type": "markdown",
      "metadata": {
        "id": "jw2vWAL1Dqy2"
      },
      "source": [
        "# OOP Exercises\n",
        "**By: Mhd Shadi Hasan**\n",
        "\n",
        "**Task 1:** Create a parent class `Shape` with a method `area` that returns 0. Then, create two child classes, `Rectangle` and `Circle`. `Rectangle` has attributes `width` and `height`, `Circle` has an attribute `radius`. Override the `area` method in both child classes to calculate the area correctly (use 3.14 as an approximation for pi).\n",
        "\n",
        "**Task 2:** Expand on the previous task. Add a method `print_info` to the `Shape` class that prints out the type of shape and its area. For each child class, override this method to print the shape type (rectangle or circle), its specific attributes (width and height for rectangles, radius for circles), and its area.\n",
        "\n",
        "**Task 3:** Create a class `BankAccount` with private attributes `__account_number` and `__balance`. Provide getter methods for both (get_account_number, get_balance), and methods to deposit and withdraw money. Ensure that the `withdraw` method checks if there is enough balance before withdrawing.\n",
        "\n",
        "**Task 4:** Create a base class `Animal` that has a method `speak()` which prints `\"I don't know what I say!\"`. Then create two derived classes `Dog` and `Cat` which override the `speak()` method. The `speak()` method in the `Dog` class should print `\"Woof Woof!\"` and the `speak()` method in the `Cat` class should print `\"Meow Meow!\"`.\n",
        "\n",
        "**Task 5:** Continuing from the above task, create a function `animal_speak(animal)` which accepts an `Animal` object and calls its `speak()` method. This demonstrates polymorphism because you can pass any object of a class derived from `Animal` to this function and it will work.\n",
        "\n",
        "**Task 6:** Create a class `Car` with two attributes: `color` (public) and `__speed` (private). The class should have methods `accelerate()` which increases the speed by 10 and `get_speed()` which returns the current speed. The `__speed` attribute should be modified only through the `accelerate()` method, demonstrating the principle of encapsulation.\n",
        "\n",
        "***\n",
        "\n",
        "**P.S. ALL CODE MUST BE CLEAN, READABLE, WELL EXPLAINED, AND FOLLOWS THE PEP 8 STYLE GUIDE.**\n",
        "\n",
        "Happy coding!!"
      ]
    },
    {
      "cell_type": "code",
      "execution_count": null,
      "metadata": {
        "id": "TiHOrRm_DkDD"
      },
      "outputs": [],
      "source": [
        "#Task 1 & Task 2\n",
        "class Shape:\n",
        "    def area(self):\n",
        "        return 0\n",
        "    def print_info(self):\n",
        "        return -1\n",
        "class Rectangle(Shape):\n",
        "    width = 0\n",
        "    height = 0\n",
        "    def area(self):\n",
        "        return self.width * self.height\n",
        "    def print_info(self):\n",
        "        return self.width, self.height, self.area()\n",
        "class Circle(Shape):\n",
        "    raidius = 0\n",
        "    def area(self):\n",
        "        return 3.14 * self.raidius * self.raidius\n",
        "    def print_info(self):\n",
        "        return self.raidius, self.area()"
      ]
    },
    {
      "cell_type": "code",
      "execution_count": null,
      "metadata": {},
      "outputs": [],
      "source": [
        "#Task3\n",
        "class BankAccount:\n",
        "    __account_number = \"123456789\"\n",
        "    __balance = 0\n",
        "    def get_account_number(self):\n",
        "        return self.__account_number\n",
        "    def get_balance(self):\n",
        "        return self.__balance\n",
        "    def deposit(self, amount):\n",
        "            self.__balance += amount\n",
        "            return f\"Deposited {amount}. New balance is {self.__balance}.\"\n",
        "    def withdraw(self, amount):\n",
        "        if amount > self.__balance:\n",
        "            return \"Insufficient funds.\"\n",
        "        else:\n",
        "            self.__balance -= amount\n",
        "            return f\"Withdrew {amount}. New balance is {self.__balance}.\""
      ]
    },
    {
      "cell_type": "code",
      "execution_count": null,
      "metadata": {},
      "outputs": [
        {
          "name": "stdout",
          "output_type": "stream",
          "text": [
            "Meow Meow!\n"
          ]
        }
      ],
      "source": [
        "#Task4 & Task5\n",
        "class Animal:\n",
        "    def speak(self):\n",
        "        print(\"don't know what I say!\")\n",
        "    \n",
        "class Dog(Animal):\n",
        "    def speak(self):\n",
        "        print(\"Woof Woof!\")\n",
        "class Cat(Animal):\n",
        "    def speak(self):\n",
        "        print(\"Meow Meow!\")\n",
        "def animal_speak(animal):\n",
        "        animal.speak()\n",
        "\n",
        "cat=Cat()\n",
        "animal_speak(cat)"
      ]
    },
    {
      "cell_type": "code",
      "execution_count": null,
      "metadata": {},
      "outputs": [],
      "source": [
        "class Car():\n",
        "    color = \"\"\n",
        "    __speed = 0\n",
        "    def accelerate(self):\n",
        "        self.__speed += 10\n",
        "    def get_speed(self):\n",
        "        return self.__speed"
      ]
    }
  ],
  "metadata": {
    "colab": {
      "provenance": []
    },
    "kernelspec": {
      "display_name": "Python 3",
      "name": "python3"
    },
    "language_info": {
      "codemirror_mode": {
        "name": "ipython",
        "version": 3
      },
      "file_extension": ".py",
      "mimetype": "text/x-python",
      "name": "python",
      "nbconvert_exporter": "python",
      "pygments_lexer": "ipython3",
      "version": "3.11.9"
    }
  },
  "nbformat": 4,
  "nbformat_minor": 0
}
