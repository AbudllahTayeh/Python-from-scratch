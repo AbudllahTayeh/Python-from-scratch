{
  "cells": [
    {
      "cell_type": "markdown",
      "metadata": {
        "id": "Im6C6hMpIAh_"
      },
      "source": [
        "# Python Basics II Exercises\n",
        "\n",
        "\n",
        "## EX 1 - Data Structures\n",
        "\n",
        "**Strings**:\n",
        "   1. Write a function to count the number of vowels in a given string.\n",
        "   \n",
        "   2. Write a function that takes a string and returns the same string but with every second letter capitalized.\n",
        "\n",
        "**List**:\n",
        "   3. Write a function that takes a list of numbers and returns a new list containing only the even numbers.\n",
        "\n",
        "   4. Write a function that takes a list and returns a new list with duplicate values removed.\n",
        "\n",
        "**Set**:\n",
        "   5. Write a function that takes two sets and returns their intersection as a new set.\n",
        "\n",
        "   6. Write a function that takes two sets and returns their union as a new set.\n",
        "\n",
        "**Tuple**:\n",
        "   7. Write a function that takes a list of tuples and sorts them based on the second element of each tuple.\n",
        "\n",
        "   8. Write a function that takes a tuple and returns a reversed version of that tuple.\n",
        "\n",
        "**Dictionary**:\n",
        "   9. Write a function that takes a dictionary and returns the keys and values as separate lists.\n",
        "\n",
        "   10. Write a function that takes a dictionary and a key, and if the key exists in the dictionary, return its value. If the key does not exist, return a default value.\n",
        "\n",
        "## EX 2 - Conditional Statements, Loops, and Functions\n",
        "\n",
        "**Task 1:** Write a program that takes two numbers as inputs from the user and prints their sum.\n",
        "\n",
        "**Task 2:** Write a program that takes an integer input from the user. Use a `for` loop to print all numbers from that integer down to 0.\n",
        "\n",
        "**Task 3:** Write a program that takes an integer input from the user. Use a `while` loop to keep doubling the number until it is greater than 1000, then print the result.\n",
        "\n",
        "**Task 4:** Write a function that takes a number as input and returns the square of the number. Use it in a program that takes an input from the user and prints the square.\n",
        "\n",
        "**Task 5:** Write a program that takes a number as input from the user. If the number is greater than 10, print \"Big number\". If the number is less than or equal to 10, print \"Small number\".\n",
        "\n",
        "**Task 6:** Write a function that takes two numbers as inputs and returns their product. Use this function in a program that takes two inputs from the user and prints the product.\n",
        "\n",
        "**Task 7:** Write a program that uses a `while` loop to take a number as input from the user, subtract 5, and print the result. Continue this until the result is less than 0.\n",
        "\n",
        "**Task 8:** Write a program that uses a `for` loop to take an integer input from the user and print the factorial of that number.\n",
        "\n",
        "**Task 9:** Write a program that takes a number as input from the user. If the number is positive, print \"Positive\". If the number is negative, print \"Negative\". If the number is zero, print \"Zero\".\n",
        "\n",
        "**Task 10:** Write a lambda function that takes two numbers as inputs and returns their division as a floating-point number. Use this function in a program that takes two inputs from the user and prints the division.\n",
        "\n",
        "***\n",
        "\n",
        "**P.S. ALL CODE MUST BE CLEAN, READABLE, WELL EXPLAINED, AND FOLLOWS THE PEP 8 STYLE GUIDE.**\n",
        "\n",
        "Happy coding!!"
      ]
    },
    {
      "cell_type": "code",
      "execution_count": null,
      "metadata": {
        "id": "TrvnuxuZIMXC"
      },
      "outputs": [
        {
          "name": "stdout",
          "output_type": "stream",
          "text": [
            "The number of vowels in the word 'aeoiulajshdhasduiasidasdasiocn' is: 15\n"
          ]
        }
      ],
      "source": [
        "#EX 1\n",
        "word = input(\"Enter a text: \")\n",
        "sum= 0\n",
        "for letter in word:\n",
        "    if letter.lower() in 'aeiou':\n",
        "        sum += 1\n",
        "print(f\"The number of vowels in the word '{word}' is: {sum}\")"
      ]
    },
    {
      "cell_type": "code",
      "execution_count": 10,
      "metadata": {},
      "outputs": [
        {
          "name": "stdout",
          "output_type": "stream",
          "text": [
            "The word with uppercase letters is: HeLoWoRd!\n"
          ]
        }
      ],
      "source": [
        "word = input(\"Enter a text: \")\n",
        "output=\"\"\n",
        "for letter in range(len(word)):\n",
        "    if letter % 2 == 0:\n",
        "        output+=(word[letter]).upper()\n",
        "    else:\n",
        "        output+=word[letter]\n",
        "print(f\"The word with uppercase letters is: {output}\")\n"
      ]
    },
    {
      "cell_type": "code",
      "execution_count": null,
      "metadata": {},
      "outputs": [
        {
          "name": "stdout",
          "output_type": "stream",
          "text": [
            "[2, 4]\n"
          ]
        }
      ],
      "source": [
        "list1 = [1, 2, 3, 4, 5]\n",
        "new_list = []\n",
        "for num in list1:\n",
        "    if num % 2 == 0:\n",
        "        new_list.append(num)\n",
        "print(new_list)"
      ]
    },
    {
      "cell_type": "code",
      "execution_count": 12,
      "metadata": {},
      "outputs": [
        {
          "name": "stdout",
          "output_type": "stream",
          "text": [
            "{0, 1, 2, 3, 4, 5, 6, 7, 8, 9, 43, 25}\n"
          ]
        }
      ],
      "source": [
        "list1= [1, 2, 3, 4, 6,43,5,4,2,2,5,6,7,8,9,0,3,25]\n",
        "set= set(list1)\n",
        "print(set)"
      ]
    },
    {
      "cell_type": "code",
      "execution_count": 13,
      "metadata": {},
      "outputs": [
        {
          "name": "stdout",
          "output_type": "stream",
          "text": [
            "{4, 5}\n"
          ]
        }
      ],
      "source": [
        "set1 = {1, 2, 3, 4, 5}\n",
        "set2 = {4, 5, 6, 7, 8}\n",
        "set3 = set1.intersection(set2)\n",
        "print(set3)"
      ]
    },
    {
      "cell_type": "code",
      "execution_count": 15,
      "metadata": {},
      "outputs": [
        {
          "name": "stdout",
          "output_type": "stream",
          "text": [
            "[(1, 2), (4, 5), (12, 23), (3, 24), (51, 62)]\n"
          ]
        }
      ],
      "source": [
        "list_of_tuples = [(12, 23), (3, 24), (51, 62), (1, 2), (4, 5)]\n",
        "sorted_list = sorted(list_of_tuples, key=lambda x: x[1])\n",
        "print(sorted_list)"
      ]
    },
    {
      "cell_type": "code",
      "execution_count": 16,
      "metadata": {},
      "outputs": [
        {
          "data": {
            "text/plain": [
              "(5, 4, 3, 2, 1)"
            ]
          },
          "execution_count": 16,
          "metadata": {},
          "output_type": "execute_result"
        }
      ],
      "source": [
        "def reverse_tuple(t):\n",
        "    return t[::-1]\n",
        "reverse_tuple((1, 2, 3, 4, 5))"
      ]
    },
    {
      "cell_type": "code",
      "execution_count": 19,
      "metadata": {},
      "outputs": [
        {
          "name": "stdout",
          "output_type": "stream",
          "text": [
            "Keys: ['name', 'age', 'city']\n",
            "Values: ['Alice', 25, 'New York']\n"
          ]
        }
      ],
      "source": [
        "dectinary = {'name': 'Alice', 'age': 25, 'city': 'New York'}\n",
        "def seperate(dectinary):\n",
        "    keys= []\n",
        "    values= []\n",
        "    for key, value in dectinary.items():\n",
        "        keys.append(key)\n",
        "        values.append(value)\n",
        "    return keys, values\n",
        "keys, values = seperate(dectinary)\n",
        "print(f\"Keys: {keys}\\nValues: {values}\")\n"
      ]
    },
    {
      "cell_type": "code",
      "execution_count": null,
      "metadata": {},
      "outputs": [
        {
          "name": "stdout",
          "output_type": "stream",
          "text": [
            "The key 'Alice' does not exist in the dictionary.\n"
          ]
        }
      ],
      "source": [
        "def key_value_check(dectinary,key):\n",
        "    if key in dectinary:\n",
        "        return f\"The value for the key '{key}' is: {dectinary[key]}\"        \n",
        "    return f\"The key '{key}' does not exist in the dictionary keys.\"\n",
        "dectinary = {'name': 'Alice', 'age': 25, 'city': 'New York'}\n",
        "key = input(\"Enter a key to check: \")\n",
        "print (key_value_check(dectinary, key))"
      ]
    },
    {
      "cell_type": "code",
      "execution_count": null,
      "metadata": {},
      "outputs": [
        {
          "name": "stdout",
          "output_type": "stream",
          "text": [
            "The sum of 3 and 32 is: 35\n"
          ]
        }
      ],
      "source": [
        "#ex 2\n",
        "num1 = int(input(\"Enter the first number: \"))\n",
        "num2 = int(input(\"Enter the second number: \"))\n",
        "print(f\"The sum of {num1} and {num2} is: {num1 + num2}\")"
      ]
    },
    {
      "cell_type": "code",
      "execution_count": 30,
      "metadata": {},
      "outputs": [
        {
          "name": "stdout",
          "output_type": "stream",
          "text": [
            "7\n",
            "6\n",
            "5\n",
            "4\n",
            "3\n",
            "2\n",
            "1\n",
            "0\n"
          ]
        }
      ],
      "source": [
        "number= int(input(\"Enter a number: \"))\n",
        "for i in range(number,-1, -1):\n",
        "    print(i)"
      ]
    },
    {
      "cell_type": "code",
      "execution_count": 31,
      "metadata": {},
      "outputs": [
        {
          "name": "stdout",
          "output_type": "stream",
          "text": [
            "The final value is: 6561\n"
          ]
        }
      ],
      "source": [
        "number = int(input(\"Enter a number: \"))\n",
        "while(number < 1000):\n",
        "    number *= number\n",
        "print(f\"The final value is: {number}\")"
      ]
    },
    {
      "cell_type": "code",
      "execution_count": 32,
      "metadata": {},
      "outputs": [
        {
          "name": "stdout",
          "output_type": "stream",
          "text": [
            "The square of 6 is: 36\n"
          ]
        }
      ],
      "source": [
        "def sequare(n):\n",
        "    return n * n\n",
        "number = int(input(\"Enter a number: \"))\n",
        "print(f\"The square of {number} is: {sequare(number)}\")"
      ]
    },
    {
      "cell_type": "code",
      "execution_count": 33,
      "metadata": {},
      "outputs": [
        {
          "name": "stdout",
          "output_type": "stream",
          "text": [
            "Big Number\n"
          ]
        }
      ],
      "source": [
        "number = float(input(\"Enter a number: \"))\n",
        "if number > 10:\n",
        "    print(\"Big Number\")\n",
        "else:\n",
        "    print(\"Small Number\")"
      ]
    },
    {
      "cell_type": "code",
      "execution_count": 34,
      "metadata": {},
      "outputs": [
        {
          "name": "stdout",
          "output_type": "stream",
          "text": [
            "The product of 4.0 and 4.0 is: 16.0\n"
          ]
        }
      ],
      "source": [
        "def product(num1, num2):\n",
        "    return num1 * num2\n",
        "input1 = float(input(\"Enter the first number: \"))\n",
        "input2 = float(input(\"Enter the second number: \"))\n",
        "print(f\"The product of {input1} and {input2} is: {product(input1, input2)}\")"
      ]
    },
    {
      "cell_type": "code",
      "execution_count": 35,
      "metadata": {},
      "outputs": [
        {
          "name": "stdout",
          "output_type": "stream",
          "text": [
            "Current value: 18.0\n",
            "Current value: 13.0\n",
            "Current value: 8.0\n",
            "Current value: 3.0\n",
            "Current value: -2.0\n"
          ]
        }
      ],
      "source": [
        "number = float(input(\"Enter a number: \"))\n",
        "while number > 0:\n",
        "    number -= 5\n",
        "    print(f\"Current value: {number}\")"
      ]
    },
    {
      "cell_type": "code",
      "execution_count": 38,
      "metadata": {},
      "outputs": [
        {
          "name": "stdout",
          "output_type": "stream",
          "text": [
            "The factorial of 3 is: 6\n"
          ]
        }
      ],
      "source": [
        "factorial = 1\n",
        "number = int(input(\"Enter a number to calculate its factorial: \"))\n",
        "for i in range(number, 0, -1):\n",
        "    factorial *= i\n",
        "print(f\"The factorial of {number} is: {factorial}\")"
      ]
    },
    {
      "cell_type": "code",
      "execution_count": 39,
      "metadata": {},
      "outputs": [
        {
          "name": "stdout",
          "output_type": "stream",
          "text": [
            "Positive\n"
          ]
        }
      ],
      "source": [
        "number= int(input(\"Enter a number: \"))\n",
        "if number > 0:\n",
        "    print(\"Positive\")\n",
        "elif number < 0:\n",
        "    print(\"Negative\")\n",
        "elif number == 0:\n",
        "    print(\"Zero\")"
      ]
    },
    {
      "cell_type": "code",
      "execution_count": 43,
      "metadata": {},
      "outputs": [
        {
          "name": "stdout",
          "output_type": "stream",
          "text": [
            "The division of 52 by 3 is: 17.333333333333332\n"
          ]
        }
      ],
      "source": [
        "divide = lambda num1, num2: num1 / num2 if num2 != 0 else \"Cannot divide by zero\"\n",
        "num1 = int(input(\"Enter the first number: \"))\n",
        "num2 = int(input(\"Enter the second number: \"))\n",
        "result = divide(num1, num2)\n",
        "print(f\"The division of {num1} by {num2} is: {result}\")"
      ]
    }
  ],
  "metadata": {
    "colab": {
      "provenance": []
    },
    "kernelspec": {
      "display_name": "Python 3",
      "name": "python3"
    },
    "language_info": {
      "codemirror_mode": {
        "name": "ipython",
        "version": 3
      },
      "file_extension": ".py",
      "mimetype": "text/x-python",
      "name": "python",
      "nbconvert_exporter": "python",
      "pygments_lexer": "ipython3",
      "version": "3.11.9"
    }
  },
  "nbformat": 4,
  "nbformat_minor": 0
}
